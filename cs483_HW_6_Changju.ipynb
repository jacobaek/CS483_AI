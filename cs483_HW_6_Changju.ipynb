{
  "nbformat": 4,
  "nbformat_minor": 0,
  "metadata": {
    "colab": {
      "name": "cs483_HW#6_Changju.ipynb",
      "provenance": []
    },
    "kernelspec": {
      "name": "python3",
      "display_name": "Python 3"
    }
  },
  "cells": [
    {
      "cell_type": "code",
      "metadata": {
        "id": "uu6o6w_6NkUz",
        "colab_type": "code",
        "colab": {
          "base_uri": "https://localhost:8080/",
          "height": 102
        },
        "outputId": "1fbec5e4-5656-4af0-e41c-9a7103650a4b"
      },
      "source": [
        "import numpy as np\n",
        "from hmmlearn import hmm\n",
        "\n",
        "trans = [\"B1\", \"B2\", \"B3\"]\n",
        "n_states = len(trans)   # = 3\n",
        "\n",
        "emission = [\"red\", \"green\",\"yellow\"]\n",
        "n_emissions = len(emission)    # = 3\n",
        "\n",
        "start_probability = np.array([0.4, 0.35, 0.25])\n",
        "\n",
        "transition_probability = np.array([\n",
        "  [0.3, 0.2, 0.5],\n",
        "  [0.1, 0.3, 0.6],\n",
        "  [0.7, 0.25, 0.05]\n",
        "])\n",
        "\n",
        "emission_probability = np.array([\n",
        "  [0.8, 0.1, 0.1],\n",
        "  [0.2, 0.4, 0.4],\n",
        "  [0.15, 0.25, 0.6]\n",
        "])\n",
        "\n",
        "model = hmm.MultinomialHMM(n_components=n_states) \n",
        "# MultinomialHMM: observation distribution in Multinomial\n",
        "model.startprob_=start_probability\n",
        "model.transmat_=transition_probability\n",
        "model.emissionprob_=emission_probability\n",
        "\n",
        "seen = np.array([[0,0,2,1,2]]).T       \n",
        " # 0: red;     1: green     2:yellow   => red red yellow green yellow\n",
        "logprob, box = model.decode(seen, algorithm=\"viterbi\")\n",
        "seen = [0,0,2,1,2]\n",
        "print(\"The color of candy is order by:\", \", \".join(map(lambda x: observations[x], seen)))\n",
        "print(\"The candy bottle is order by:\", \", \".join(map(lambda x: states[x], box)))\n",
        "\n",
        "seen = np.array([[0,0,2,1,2]]).T \n",
        "box2 = model.predict(seen)      # \"viterbi\" of HMM (Hidden Markov Model)\n",
        "seen = [0,0,2,1,2]\n",
        "print(\"The color of candy is order by:\", \", \".join(map(lambda x: observations[x], seen)))\n",
        "print(\"The candy bottle is order by :\", \", \".join(map(lambda x: states[x], box2)))\n",
        "\n",
        "seen = np.array([[0,0,2,1,2]]).T                  # P(rrygy) = ?\n",
        "\n",
        "print(model.score(seen))     \n",
        "   # ln(P(red*red*yellow*green*yellow)) = -5.342304036552551   \n",
        "   # P(rrygy) = exp(-5.342304036552551)\n"
      ],
      "execution_count": 10,
      "outputs": [
        {
          "output_type": "stream",
          "text": [
            "The color of candy is order by: red, red, yellow, green, yellow\n",
            "The candy bottle is order by: B1, B1, B3, B2, B3\n",
            "The color of candy is order by: red, red, yellow, green, yellow\n",
            "The candy bottle is order by : B1, B1, B3, B2, B3\n",
            "-5.342304036552551\n"
          ],
          "name": "stdout"
        }
      ]
    }
  ]
}