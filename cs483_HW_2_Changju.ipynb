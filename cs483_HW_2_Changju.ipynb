{
  "nbformat": 4,
  "nbformat_minor": 0,
  "metadata": {
    "colab": {
      "name": "cs483_HW#2_Changju.ipynb",
      "provenance": []
    },
    "kernelspec": {
      "name": "python3",
      "display_name": "Python 3"
    }
  },
  "cells": [
    {
      "cell_type": "code",
      "metadata": {
        "id": "lTFWcH0u_kYl",
        "colab_type": "code",
        "colab": {
          "base_uri": "https://localhost:8080/",
          "height": 85
        },
        "outputId": "78f885e5-e990-48f6-839c-de902b59bc26"
      },
      "source": [
        "import numpy as np\n",
        "\n",
        "#hypothesishypothesis function ---- h(theta)=theta1+theta2*x\n",
        "\n",
        "#loss function    ------ l=[h(x(i))-y(i)]^2\n",
        "\n",
        "#cost function    ------ J(theta) = [h(x(i))-y(i)]^2/(2*m)\n",
        "\n",
        "def training(tr_set):\n",
        "\n",
        "  (theta1,theta2,theta3)=(0,0,0)      # Initialize theta's value\n",
        "\n",
        "  alpha=0.01                                      # Set up learning rate\n",
        "\n",
        "  m=len(tr_set)                                 # Get number of samples in training set\n",
        "\n",
        "  iteration=36000  \n",
        "\n",
        "  while iteration > 0:\n",
        "\n",
        "    dtheta1=0                           # Initialize derivative value to big enough\n",
        "\n",
        "    dtheta2=0\n",
        "\n",
        "    dtheta3=0\n",
        "\n",
        "    for x in tr_set:            # x[0]=x0; x[1]=x1; x[2]=x2; x[3]=y\n",
        "\n",
        "      dtheta1=dtheta1+((theta1*x[0]+theta2*x[1]+theta3*x[2])-x[3])*x[0]\n",
        "\n",
        "      dtheta2=dtheta2+((theta1*x[0]+theta2*x[1]+theta3*x[2])-x[3])*x[1]\n",
        "\n",
        "      dtheta3=dtheta3+((theta1*x[0]+theta2*x[1]+theta3*x[2])-x[3])*x[2]\n",
        "\n",
        "      \n",
        "\n",
        "    theta1=theta1-alpha*dtheta1/m\n",
        "\n",
        "    theta2=theta2-alpha*dtheta2/m\n",
        "\n",
        "    theta3=theta3-alpha*dtheta3/m\n",
        "\n",
        "    iteration-=1\n",
        "\n",
        "  \n",
        "\n",
        "  return (theta1, theta2, theta3)\n",
        "\n",
        "def pred(training_set,test_set):\n",
        "\n",
        "  (t1,t2,t3)=training(training_set)\n",
        "\n",
        "  #print(t1,t2,t3)\n",
        "\n",
        "  return t1*test_set[0]+t2*test_set[1]+t3*test_set[2]\n",
        "\n",
        "\n",
        "\n",
        "tr=[[1,-0.195652174,-0.433333333,-0.177897574],[1,-0.152173913,0.277777778,-0.121293801],[1,0.413043478,0.411111111,0.350404313],[1,-0.326086957,-0.122222222,0.04851752],[1,-0.065217391,-0.344444444,0.105121294],[1,0.152173913,0.033333333,0.067385445],[1,0.065217391,-0.188888889,-0.309973046],[1,0.543478261,0.411111111,0.690026954],[1,-0.065217391,0.411111111,0.180592992],[1,-0.456521739,-0.522222222,-0.215633423],[1,-0.065217391,-0.233333333,-0.15902965],[1,0.5,0.477777778,0.105121294],[1,-0.195652174,-0.077777778,-0.291105121],[1,-0.152173913,-0.1,-0.272237197]]\n",
        "\n",
        "tr=np.array(tr) # matrix format\n",
        "\n",
        "# tr[:,1]=(tr[:,1] - min(tr[:,1] )) / (max(tr[:,1])-min(tr[:,1]))  # normalization bwt 0~1\n",
        "\n",
        "# tr[:,2]=(tr[:,2] - min(tr[:,1] )) / (max(tr[:,2])-min(tr[:,2]))  # normalization bwt 0~1\n",
        "\n",
        "# print(tr)\n",
        "\n",
        "#for test_tr in tr:\n",
        "\n",
        "  #print(pred(tr,test_tr))\n",
        "\n",
        "test=[[1,0.02173913, 0.166666667],[1,0.630434783,0.055555556]]\n",
        "\n",
        "test=np.array(test)\n",
        "\n",
        "for pre in test:\n",
        "\n",
        "  print(\"After training: \",pred(tr,pre) ,\"\\npredict value: \", pred(tr,pre)*53 + 126.4285714)"
      ],
      "execution_count": 1,
      "outputs": [
        {
          "output_type": "stream",
          "text": [
            "After training:  0.04888880841630865 \n",
            "predict value:  129.01967824606436\n",
            "After training:  0.3081853516149899 \n",
            "predict value:  142.76239503559447\n"
          ],
          "name": "stdout"
        }
      ]
    },
    {
      "cell_type": "code",
      "metadata": {
        "id": "L5p34i8X_4At",
        "colab_type": "code",
        "colab": {
          "base_uri": "https://localhost:8080/",
          "height": 34
        },
        "outputId": "4edb15aa-6a3f-4a09-b305-008465fdf9ab"
      },
      "source": [
        "import numpy as np\n",
        "\n",
        "def training(tr_set):\n",
        "\n",
        "  (theta1,theta2,theta3)=(0,0,0)      \n",
        "\n",
        "  alpha=0.01                                     \n",
        "\n",
        "  m=len(tr_set)                            \n",
        "\n",
        "  iteration=36000  \n",
        "\n",
        "  while iteration > 0:\n",
        "\n",
        "    dtheta1=0                          \n",
        "\n",
        "    dtheta2=0\n",
        "\n",
        "    dtheta3=0\n",
        "\n",
        "    for x in tr_set:            # x[0]=x0; x[1]=x1; x[2]=x2; x[3]=y\n",
        "\n",
        "      dtheta1=dtheta1+((theta1*x[0]+theta2*x[1]+theta3*x[2])-x[3])*x[0]\n",
        "\n",
        "      dtheta2=dtheta2+((theta1*x[0]+theta2*x[1]+theta3*x[2])-x[3])*x[1]\n",
        "\n",
        "      dtheta3=dtheta3+((theta1*x[0]+theta2*x[1]+theta3*x[2])-x[3])*x[2]\n",
        "\n",
        "    theta1=theta1-alpha*dtheta1/m\n",
        "\n",
        "    theta2=theta2-alpha*dtheta2/m\n",
        "\n",
        "    theta3=theta3-alpha*dtheta3/m\n",
        "\n",
        "    iteration-=1\n",
        "\n",
        "  return (theta1, theta2, theta3)\n",
        "\n",
        "def pred(training_set,test_set):\n",
        "\n",
        "  (t1,t2,t3)=training(training_set)\n",
        "\n",
        "  return t1*test_set[0]+t2*test_set[1]+t3*test_set[2]\n",
        "print(training)"
      ],
      "execution_count": 11,
      "outputs": [
        {
          "output_type": "stream",
          "text": [
            "<function training at 0x7ff0f0e3a598>\n"
          ],
          "name": "stdout"
        }
      ]
    }
  ]
}