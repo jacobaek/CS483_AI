{
  "nbformat": 4,
  "nbformat_minor": 0,
  "metadata": {
    "colab": {
      "name": "cs483_HW#4_Changju.ipynb",
      "provenance": []
    },
    "kernelspec": {
      "name": "python3",
      "display_name": "Python 3"
    }
  },
  "cells": [
    {
      "cell_type": "code",
      "metadata": {
        "id": "wbocbi2pD5U3",
        "colab_type": "code",
        "colab": {
          "base_uri": "https://localhost:8080/",
          "height": 232
        },
        "outputId": "c831b364-3fbb-4536-8d1b-e1e3f458383a"
      },
      "source": [
        "import pandas as pd\n",
        "\n",
        "\n",
        "\n",
        "\n",
        "f=open(\"decision tree.txt\",'r')\n",
        "df=f.read()\n",
        "\n",
        "\n",
        "df=df.split('\\n')\n",
        "dat=[]\n",
        "for data in df:\n",
        "    word=data.split(' ')\n",
        "    dat.append(word)\n",
        "ndf=pd.DataFrame(dat,columns=['Age','Competition','Type','profit'])\n",
        "\n",
        "\n",
        "\n",
        "\n",
        "x_train=ndf.iloc[:,0:3]\n",
        "y_train=ndf.iloc[:,3]\n",
        "print(x_train)\n",
        "\n",
        "\n",
        "\n",
        "from sklearn.tree import DecisionTreeClassifier\n",
        "import numpy as np\n",
        "from sklearn import tree\n",
        "\n",
        "\n",
        "\n",
        "\n",
        "clf_tree=DecisionTreeClassifier(random_state=0,max_depth=3)\n",
        "clf_fit=clf_tree.fit(x_train,y_train)\n",
        "\n",
        "\n",
        "\n",
        "x_test=np.array([1,1,1])\n",
        "x_test=x_test.reshape(1,-1)\n",
        "predicted=clf_fit.predict(x_test)\n",
        "\n",
        "\n",
        "print(predicted)"
      ],
      "execution_count": 4,
      "outputs": [
        {
          "output_type": "error",
          "ename": "FileNotFoundError",
          "evalue": "ignored",
          "traceback": [
            "\u001b[0;31m---------------------------------------------------------------------------\u001b[0m",
            "\u001b[0;31mFileNotFoundError\u001b[0m                         Traceback (most recent call last)",
            "\u001b[0;32m<ipython-input-4-cc603cc004ff>\u001b[0m in \u001b[0;36m<module>\u001b[0;34m()\u001b[0m\n\u001b[1;32m      5\u001b[0m \u001b[0;34m\u001b[0m\u001b[0m\n\u001b[1;32m      6\u001b[0m \u001b[0;34m\u001b[0m\u001b[0m\n\u001b[0;32m----> 7\u001b[0;31m \u001b[0mf\u001b[0m\u001b[0;34m=\u001b[0m\u001b[0mopen\u001b[0m\u001b[0;34m(\u001b[0m\u001b[0;34m\"decision tree.txt\"\u001b[0m\u001b[0;34m,\u001b[0m\u001b[0;34m'r'\u001b[0m\u001b[0;34m)\u001b[0m\u001b[0;34m\u001b[0m\u001b[0;34m\u001b[0m\u001b[0m\n\u001b[0m\u001b[1;32m      8\u001b[0m \u001b[0mdf\u001b[0m\u001b[0;34m=\u001b[0m\u001b[0mf\u001b[0m\u001b[0;34m.\u001b[0m\u001b[0mread\u001b[0m\u001b[0;34m(\u001b[0m\u001b[0;34m)\u001b[0m\u001b[0;34m\u001b[0m\u001b[0;34m\u001b[0m\u001b[0m\n\u001b[1;32m      9\u001b[0m \u001b[0;34m\u001b[0m\u001b[0m\n",
            "\u001b[0;31mFileNotFoundError\u001b[0m: [Errno 2] No such file or directory: 'decision tree.txt'"
          ]
        }
      ]
    }
  ]
}