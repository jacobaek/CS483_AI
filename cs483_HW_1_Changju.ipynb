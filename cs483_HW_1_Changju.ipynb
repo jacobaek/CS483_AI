{
  "nbformat": 4,
  "nbformat_minor": 0,
  "metadata": {
    "colab": {
      "name": "cs483_HW#1_Changju.ipynb",
      "provenance": [],
      "collapsed_sections": []
    },
    "kernelspec": {
      "name": "python3",
      "display_name": "Python 3"
    }
  },
  "cells": [
    {
      "cell_type": "code",
      "metadata": {
        "id": "LN9m0tSj4MlK",
        "colab_type": "code",
        "colab": {
          "base_uri": "https://localhost:8080/",
          "height": 34
        },
        "outputId": "351d8b58-b2e6-4e5e-b6a6-54ff3a303063"
      },
      "source": [
        "id = [i for i in range(1,17)]\n",
        "\n",
        "age = [60, 61, 74, 57, 63, 68, 66, 77, 63, 54, 63, 76, 60, 61, 65, 79]\n",
        "\n",
        "weight = [58, 90, 96, 72, 62, 79, 69, 96, 96, 54, 67, 99, 74, 73, 85, 80]\n",
        "\n",
        "sbp= [117, 120, 145, 129, 132, 130, 110, 163, 136, 115, 118, 132, 111, 112, 0, 0]\n",
        "\n",
        "from sklearn.linear_model import LinearRegression\n",
        "\n",
        "import pandas as pd\n",
        "\n",
        "data = {\"age\":age, \"Weight\":weight, \"SBP\":sbp}\n",
        "\n",
        "data = pd.DataFrame(data = data)\n",
        "\n",
        "x = data[[\"age\", \"Weight\"]]\n",
        "\n",
        "y = data[\"SBP\"]\n",
        "\n",
        "x_train = x[:14]\n",
        "\n",
        "x_test = x[14:]\n",
        "\n",
        "y_train = y[:14]\n",
        "\n",
        "y_test = y[14:]\n",
        "\n",
        "model = LinearRegression()\n",
        "\n",
        "model.fit(x_train, y_train)\n",
        "\n",
        "predict = model.predict(x_test)\n",
        "\n",
        "print(predict)"
      ],
      "execution_count": null,
      "outputs": [
        {
          "output_type": "stream",
          "text": [
            "[129.01956696 142.76293569]\n"
          ],
          "name": "stdout"
        }
      ]
    },
    {
      "cell_type": "code",
      "metadata": {
        "id": "U3KrmgRi5ZKz",
        "colab_type": "code",
        "colab": {
          "base_uri": "https://localhost:8080/",
          "height": 34
        },
        "outputId": "c0a616fe-bba9-45e7-ba06-811b070e9212"
      },
      "source": [
        "def der_theta(t0, t1, lst):\n",
        "  \n",
        "  der_theta0_val, der_theta1_val = 0, 0\n",
        "  \n",
        "  for (x,y) in lst:\n",
        "    der_theta0_val=der_theta0_val+((t0+t1*x)-y)\n",
        "    der_theta1_val=der_theta1_val+(((t0+t1*x)-y)*x)\n",
        "    \n",
        "  return (der_theta0_val, der_theta1_val)\n",
        "\n",
        "def theta_val(theta0_init,theta1_init,alpha,E,lst): # training set\n",
        "  \n",
        "  (der_t0,der_t1)=der_theta(theta0_init, theta1_init, lst)\n",
        " # Test\n",
        "  theta0,theta1=theta0_init, theta1_init\n",
        "  m=len(lst)\t\t# Total number of (x,y) pairs\n",
        "\n",
        "  while(abs(der_t0)>= E or abs(der_t1)>= E):\n",
        "    theta0=theta0-alpha/m*der_t0;\n",
        "    theta1=theta1-alpha/m*der_t1;\n",
        "    # print('theta0=',theta0, 'theta1=',theta1,'der_t0=',der_t0, 'der_t1=',der_t1)  # Testing\n",
        "    (der_t0,der_t1)=der_theta(theta0,theta1,lst) # Get new derivitive values\n",
        "\n",
        "  return (theta0,theta1)\n",
        "\n",
        "row_data=[[0,4],[1,5],[2,16],[3,21],[4,36],[5,45],[6,64],[7,77],[8,100],[9,117],[10,144]]\n",
        "\n",
        "theta0_init,theta1_init=0.0, 0.0\n",
        "alpha=0.01\t# Set up the learning rate\n",
        "E=0.0001\t\n",
        "\n",
        "def get_theta():\n",
        "  return theta_val(theta0_init,theta1_init,alpha,E,row_data)\n",
        "\n",
        "\n",
        "theta0,theta1 = get_theta()\n",
        "\n",
        "print(theta0,theta1)\n"
      ],
      "execution_count": 34,
      "outputs": [
        {
          "output_type": "stream",
          "text": [
            "-12.818149416912124 13.999995333924602\n"
          ],
          "name": "stdout"
        }
      ]
    },
    {
      "cell_type": "code",
      "metadata": {
        "id": "l0XsRuBO9GM9",
        "colab_type": "code",
        "colab": {
          "base_uri": "https://localhost:8080/",
          "height": 306
        },
        "outputId": "ffe2d945-badd-4c3e-e754-e6d2b98a0a64"
      },
      "source": [
        "import numpy as np\n",
        "\n",
        "\n",
        "X=[[1, 1],[1, 3],[1, 5],[1, 7],[1, 9],[1, 11],[1, 13],[1, 15],[1, 17],[1, 19,20-1]]\n",
        "\n",
        "a = np.array([[1, 1],[1, 3],[1, 5],[1, 7],[1, 9],[1, 11],[1, 13],[1, 15],[1, 17],[1, 19]])\n",
        "\n",
        "print(a)\n",
        "\n",
        "print(a.shape)\n",
        "\n",
        "a_trans=a.transpose()\n",
        "\n",
        "print(a_trans)\n",
        "\n",
        "a_trans.shape\n",
        "\n",
        "print(a_trans.dot(a))\n",
        "\n",
        "u=np.linalg.inv(a_trans.dot(a))\n",
        "\n",
        "v=u.dot(a_trans)\n",
        "\n",
        "v.shape\n",
        "\n",
        "Y=np.array([[2+1],[4-1],[6+1],[8-1],[10+1],[12-1],[14+1],[16-1],[18+1],[20-1]])\n",
        "\n",
        "Y.shape\n",
        "\n",
        "print(v.dot(Y))\n"
      ],
      "execution_count": null,
      "outputs": [
        {
          "output_type": "stream",
          "text": [
            "[[ 1  1]\n",
            " [ 1  3]\n",
            " [ 1  5]\n",
            " [ 1  7]\n",
            " [ 1  9]\n",
            " [ 1 11]\n",
            " [ 1 13]\n",
            " [ 1 15]\n",
            " [ 1 17]\n",
            " [ 1 19]]\n",
            "(10, 2)\n",
            "[[ 1  1  1  1  1  1  1  1  1  1]\n",
            " [ 1  3  5  7  9 11 13 15 17 19]]\n",
            "[[  10  100]\n",
            " [ 100 1330]]\n",
            "[[1.3030303 ]\n",
            " [0.96969697]]\n"
          ],
          "name": "stdout"
        }
      ]
    }
  ]
}